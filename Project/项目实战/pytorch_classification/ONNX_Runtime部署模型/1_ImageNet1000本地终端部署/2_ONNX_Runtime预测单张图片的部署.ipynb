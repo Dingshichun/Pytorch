{
 "cells": [
  {
   "cell_type": "markdown",
   "metadata": {},
   "source": [
    "# 推理引擎ONNX Runtime部署-预测单张图像  \n",
    "\n",
    "使用推理引擎 ONNX Runtime，读取 ONNX 格式的模型文件，对 **单张图像** 进行预测。\n",
    "\n",
    "**参考**：[pytorch模型部署](https://space.bilibili.com/1900783)  \n",
    "\n",
    "要将代码部署到硬件上运行（本地PC、嵌入式开发板、树莓派、Jetson Nano、服务器），\n",
    "\n",
    "只需把`onnx`模型文件发到待部署的硬件上，并安装 ONNX Runtime 环境，用下面几行代码就可以运行模型了。"
   ]
  },
  {
   "cell_type": "code",
   "execution_count": 1,
   "metadata": {},
   "outputs": [],
   "source": [
    "import onnxruntime\n",
    "import numpy as np\n",
    "import torch\n",
    "import torch.nn.functional as F\n",
    "import pandas as pd"
   ]
  },
  {
   "cell_type": "markdown",
   "metadata": {},
   "source": [
    "### （1）**下载素材文件**\n",
    "\n",
    "包括保存ImageNet类别索引的csv文件、香蕉测试图像banana1.jpg和测试视频video_4.mp4 \n",
    " \n",
    "可直接点击下方链接下载，也可[百度网盘自行下载](https://pan.baidu.com/s/1v9pFvc6-YJ7YZYInK7SrXA)，\n",
    "提取码：cpdd"
   ]
  },
  {
   "cell_type": "code",
   "execution_count": null,
   "metadata": {},
   "outputs": [],
   "source": [
    "!wget https://zihao-openmmlab.obs.cn-east-3.myhuaweicloud.com/20220716-mmclassification/dataset/imagenet/imagenet_class_index.csv\n",
    "\n",
    "!wget https://zihao-openmmlab.obs.cn-east-3.myhuaweicloud.com/20220716-mmclassification/test/banana1.jpg\n",
    "!wget https://zihao-openmmlab.obs.cn-east-3.myhuaweicloud.com/20220716-mmclassification/test/video_4.mp4"
   ]
  },
  {
   "cell_type": "markdown",
   "metadata": {},
   "source": [
    "### （2）**加载ONNX模型，获取ONNX Runtime推理器**"
   ]
  },
  {
   "cell_type": "code",
   "execution_count": 4,
   "metadata": {},
   "outputs": [],
   "source": [
    "ort_session = onnxruntime.InferenceSession(\"ResNet18_ImageNet.onnx\")"
   ]
  },
  {
   "cell_type": "markdown",
   "metadata": {},
   "source": [
    "**构造随机输入进行测试**"
   ]
  },
  {
   "cell_type": "code",
   "execution_count": 8,
   "metadata": {},
   "outputs": [
    {
     "name": "stdout",
     "output_type": "stream",
     "text": [
      "(1, 1000)\n"
     ]
    }
   ],
   "source": [
    "x = torch.randn([1, 3, 256, 256]).numpy()  # 注意转换为numpy格式\n",
    "\n",
    "# 注意，输入输出张量的名称需要和 torch.onnx.export 中设置的输入输出名对应\n",
    "ort_input = {\"input\": x}  # onnx runtime输入\n",
    "ort_output = ort_session.run([\"output\"], ort_input)[0]  # onnx runtime输入输出\n",
    "\n",
    "print(ort_output.shape)"
   ]
  },
  {
   "cell_type": "markdown",
   "metadata": {},
   "source": [
    "### （3）**使用真正的图像进行测试**"
   ]
  },
  {
   "cell_type": "code",
   "execution_count": 10,
   "metadata": {},
   "outputs": [],
   "source": [
    "from PIL import Image\n",
    "\n",
    "# 图像路径根据自己的实际进行修改。\n",
    "image_path = \"./素材文件/banana1.jpg\"\n",
    "image = Image.open(image_path)"
   ]
  },
  {
   "cell_type": "markdown",
   "metadata": {},
   "source": [
    "**测试图像预处理**"
   ]
  },
  {
   "cell_type": "code",
   "execution_count": 12,
   "metadata": {},
   "outputs": [],
   "source": [
    "from torchvision import transforms\n",
    "\n",
    "test_transform = transforms.Compose(\n",
    "    [\n",
    "        transforms.Resize(256),\n",
    "        transforms.CenterCrop(256),\n",
    "        transforms.ToTensor(),\n",
    "        transforms.Normalize(mean=[0.485, 0.456, 0.406], std=[0.229, 0.224, 0.225]),\n",
    "    ]\n",
    ")"
   ]
  },
  {
   "cell_type": "code",
   "execution_count": 15,
   "metadata": {},
   "outputs": [
    {
     "name": "stdout",
     "output_type": "stream",
     "text": [
      "torch.Size([3, 256, 256])\n",
      "(1, 3, 256, 256)\n"
     ]
    }
   ],
   "source": [
    "input_image = test_transform(image)\n",
    "print(input_image.shape)  # 输出是tensor类型\n",
    "\n",
    "# 增加batch_size维度为1，转为numpy格式。\n",
    "input_tensor = input_image.unsqueeze(0).numpy()\n",
    "print(input_tensor.shape)"
   ]
  },
  {
   "cell_type": "markdown",
   "metadata": {},
   "source": [
    "### （4）**推理预测**"
   ]
  },
  {
   "cell_type": "code",
   "execution_count": 16,
   "metadata": {},
   "outputs": [
    {
     "name": "stdout",
     "output_type": "stream",
     "text": [
      "torch.Size([1, 1000])\n"
     ]
    }
   ],
   "source": [
    "# ONNX Runtime 输入\n",
    "ort_input = {\"input\": input_tensor}\n",
    "\n",
    "# ONNX Runtime 输出\n",
    "pred_logits = ort_session.run([\"output\"], ort_input)[0]\n",
    "pred_logits = torch.tensor(pred_logits)\n",
    "\n",
    "print(pred_logits.shape)"
   ]
  },
  {
   "cell_type": "code",
   "execution_count": 17,
   "metadata": {},
   "outputs": [
    {
     "name": "stdout",
     "output_type": "stream",
     "text": [
      "torch.Size([1, 1000])\n"
     ]
    }
   ],
   "source": [
    "# 对 logit 分数做 softmax 运算，得到置信度概率\n",
    "pred_softmax = F.softmax(pred_logits, dim=1)\n",
    "print(pred_softmax.shape)"
   ]
  },
  {
   "cell_type": "markdown",
   "metadata": {},
   "source": [
    "### （5）**解析预测结果**"
   ]
  },
  {
   "cell_type": "code",
   "execution_count": 18,
   "metadata": {},
   "outputs": [
    {
     "name": "stdout",
     "output_type": "stream",
     "text": [
      "torch.return_types.topk(\n",
      "values=tensor([[9.9686e-01, 2.4719e-03, 2.8185e-04]]),\n",
      "indices=tensor([[954, 939, 941]]))\n"
     ]
    }
   ],
   "source": [
    "# 取置信度最高的前 n 个结果\n",
    "n = 3\n",
    "\n",
    "top_n = torch.topk(pred_softmax, n)\n",
    "\n",
    "print(top_n)"
   ]
  },
  {
   "cell_type": "code",
   "execution_count": 20,
   "metadata": {},
   "outputs": [
    {
     "name": "stdout",
     "output_type": "stream",
     "text": [
      "类别是： [954 939 941]\n",
      "置信度是： [9.9686396e-01 2.4718815e-03 2.8184804e-04]\n"
     ]
    }
   ],
   "source": [
    "# 预测类别\n",
    "pred_ids = top_n.indices.numpy()[0]\n",
    "\n",
    "print(\"类别是：\", pred_ids)\n",
    "\n",
    "# 预测置信度\n",
    "confs = top_n.values.numpy()[0]\n",
    "\n",
    "print(\"置信度是：\", confs)"
   ]
  },
  {
   "cell_type": "markdown",
   "metadata": {},
   "source": [
    "### （6）**载入类别 ID 和类别名称 对应关系**"
   ]
  },
  {
   "cell_type": "code",
   "execution_count": 22,
   "metadata": {},
   "outputs": [],
   "source": [
    "# 路径根据实际进行修改\n",
    "df = pd.read_csv(\"./素材文件/imagenet_class_index.csv\")\n",
    "\n",
    "idx_to_labels = {}\n",
    "\n",
    "\n",
    "for idx, row in df.iterrows():\n",
    "\n",
    "    # idx_to_labels[row[\"ID\"]] = row[\"class\"]  # 英文\n",
    "\n",
    "    idx_to_labels[row[\"ID\"]] = row[\"Chinese\"]  # 中文"
   ]
  },
  {
   "cell_type": "markdown",
   "metadata": {},
   "source": [
    "### （7）**打印预测结果**"
   ]
  },
  {
   "cell_type": "code",
   "execution_count": 23,
   "metadata": {},
   "outputs": [
    {
     "name": "stdout",
     "output_type": "stream",
     "text": [
      "香蕉                   99.686\n",
      "绿皮密生西葫芦              0.247\n",
      "小青南瓜                 0.028\n"
     ]
    }
   ],
   "source": [
    "for i in range(n):\n",
    "    class_name = idx_to_labels[pred_ids[i]]  # 获取类别名称\n",
    "    confidence = confs[i] * 100  # 获取置信度\n",
    "    text = \"{:<20} {:>.3f}\".format(class_name, confidence)\n",
    "    print(text)"
   ]
  }
 ],
 "metadata": {
  "kernelspec": {
   "display_name": "Python 3",
   "language": "python",
   "name": "python3"
  },
  "language_info": {
   "codemirror_mode": {
    "name": "ipython",
    "version": 3
   },
   "file_extension": ".py",
   "mimetype": "text/x-python",
   "name": "python",
   "nbconvert_exporter": "python",
   "pygments_lexer": "ipython3",
   "version": "3.11.9"
  }
 },
 "nbformat": 4,
 "nbformat_minor": 2
}
