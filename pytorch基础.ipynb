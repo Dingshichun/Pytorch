{
 "cells": [
  {
   "cell_type": "markdown",
   "metadata": {},
   "source": [
    "# pytorch基础"
   ]
  },
  {
   "cell_type": "markdown",
   "metadata": {},
   "source": [
    "### （1）numpy"
   ]
  },
  {
   "cell_type": "code",
   "execution_count": 22,
   "metadata": {},
   "outputs": [
    {
     "name": "stdout",
     "output_type": "stream",
     "text": [
      "nd1:\n",
      " type:  <class 'numpy.ndarray'>\n",
      "value:\n",
      " [[[4.22793572e-307 1.69122046e-306]\n",
      "  [1.05700260e-307 1.44635488e-307]\n",
      "  [3.33773471e-307 4.22793572e-307]]]\n",
      "\n",
      "\n",
      "nd2:\n",
      " type:  <class 'numpy.ndarray'>\n",
      "value:\n",
      " [[2 4 1 4]\n",
      " [4 3 2 1]]\n"
     ]
    }
   ],
   "source": [
    "import numpy as np\n",
    "\n",
    "list1 = [1, 3, 2]\n",
    "\n",
    "# 从已有数据类型list生成。list中的数据指的是ndarray的维度大小。\n",
    "nd1 = np.ndarray(list1)\n",
    "print(\"nd1:\\n\", \"type: \", type(nd1))\n",
    "print(\"value:\\n\", nd1)\n",
    "\n",
    "list2 = [[2, 4, 1, 4], [4, 3, 2, 1]]\n",
    "nd2 = np.array(list2)  # 嵌套数据可以转换为多维ndarray。\n",
    "print(\"\\n\")\n",
    "print(\"nd2:\\n\", \"type: \", type(nd2))\n",
    "print(\"value:\\n\", nd2)"
   ]
  },
  {
   "cell_type": "code",
   "execution_count": 26,
   "metadata": {},
   "outputs": [
    {
     "name": "stdout",
     "output_type": "stream",
     "text": [
      "rand1:\n",
      " [[0.54159249 0.5121131 ]\n",
      " [0.77661695 0.67546711]]\n",
      "rand2:\n",
      " [[6.57377192 8.18141366]\n",
      " [9.87104655 6.30292479]]\n",
      "rand3:\n",
      " [[ 0.17964116  0.12945487]\n",
      " [-3.05509823 -0.73564728]]\n"
     ]
    }
   ],
   "source": [
    "# numpy.random的使用\n",
    "\n",
    "import numpy as np\n",
    "\n",
    "# np.random.seed(1)  # 设置随机数种子，使每次生成的随机数一样。\n",
    "rand1 = np.random.random([2, 2])  # 生成0到1之间的随机数。\n",
    "rand2 = np.random.uniform(0, 10, [2, 2])  # 生成均匀分布的随机数。\n",
    "rand3 = np.random.randn(2, 2)  # 标准正态的随机数\n",
    "np.random.shuffle(rand3)  # 随机原地打乱顺序\n",
    "\n",
    "print(\"rand1:\\n\", rand1)\n",
    "print(\"rand2:\\n\", rand2)\n",
    "print(\"rand3:\\n\", rand3)"
   ]
  },
  {
   "cell_type": "code",
   "execution_count": 30,
   "metadata": {},
   "outputs": [
    {
     "name": "stdout",
     "output_type": "stream",
     "text": [
      "np1:\n",
      " [[0 0 0]\n",
      " [0 0 0]]\n",
      "np2:\n",
      " [[1 1 1]\n",
      " [1 1 1]]\n",
      "np3:\n",
      " [[1 0]\n",
      " [0 1]]\n",
      "np4:\n",
      " [[4.22793572e-307 1.69122046e-306 1.05700260e-307]\n",
      " [1.44635488e-307 3.33773471e-307 4.22793572e-307]]\n",
      "np5:\n",
      " [[6 6 6]\n",
      " [6 6 6]]\n",
      "ar1:\n",
      " [10  9  8  7  6  5  4  3  2  1]\n",
      "lin1:\n",
      " [0.   0.25 0.5  0.75 1.  ]\n"
     ]
    }
   ],
   "source": [
    "# 创建特定形状的多维数组\n",
    "import numpy as np\n",
    "\n",
    "np1 = np.zeros(shape=(2, 3), dtype=np.uint8)  # 大小为2x2的元素全为0的数组\n",
    "np2 = np.ones(shape=(2, 3), dtype=np.uint8)  # 大小为2x2的元素全为1的数组\n",
    "\n",
    "# 大小为2x2，左上到右下对角线元素为1，其余元素为0的矩阵.\n",
    "np3 = np.eye(2, dtype=np.uint8)\n",
    "np4 = np.empty(shape=(2, 3))  # 大小为2x2的空数组，其数据的值是未初始化的垃圾值。\n",
    "np5 = np.full((2, 3), 6)  # 大小为2x3，且全部元素都为6的数组。\n",
    "\n",
    "# 利用arange、linspace函数生成数组\n",
    "ar1 = np.arange(10, 0, -1)  # 参数依次为初始值、终止值、步长（默认为1）\n",
    "lin1 = np.linspace(0, 1, 5)  # 将初始值到终止值分为参数num份，\n",
    "\n",
    "print(\"np1:\\n\", np1), print(\"np2:\\n\", np2)\n",
    "print(\"np3:\\n\", np3), print(\"np4:\\n\", np4)\n",
    "print(\"np5:\\n\", np5), print(\"ar1:\\n\", ar1),\n",
    "print(\"lin1:\\n\", lin1)"
   ]
  },
  {
   "cell_type": "code",
   "execution_count": 31,
   "metadata": {},
   "outputs": [
    {
     "name": "stdout",
     "output_type": "stream",
     "text": [
      "multi2:\n",
      " [[6 6]\n",
      " [6 6]]\n",
      "dot:\n",
      " [[10 12 20]\n",
      " [ 8 10 16]]\n"
     ]
    }
   ],
   "source": [
    "# numpy的算数运算\n",
    "import numpy as np\n",
    "\n",
    "# 逐元素相乘，函数np.multiply(),或*。\n",
    "np1 = np.ones((2, 2), dtype=np.uint8) * 3\n",
    "np2 = np.ones((2, 2), dtype=np.uint8) * 2\n",
    "multi1 = np.multiply(np1, np2)  # 相乘\n",
    "multi2 = np1 * np2  # 相乘\n",
    "multi3 = np1 * 2  # 直接和标量相乘，每个元素位置都乘以标量。\n",
    "\n",
    "# 点积运算，遵循矩阵乘法\n",
    "# numpy.dot(a, b, out=None)\n",
    "a = np.array([[2, 3], [2, 2]])\n",
    "b = np.array([[2, 3, 4], [2, 2, 4]])\n",
    "dot = np.dot(a, b)\n",
    "\n",
    "print(\"multi2:\\n\", multi2)\n",
    "print(\"dot:\\n\", dot)"
   ]
  },
  {
   "cell_type": "code",
   "execution_count": 34,
   "metadata": {},
   "outputs": [],
   "source": [
    "# 数组变形。包括展平、连接等。\n",
    "import numpy as np\n",
    "\n",
    "# reshape更改维度，不修改向量本身。\n",
    "arr1 = np.random.randint(0, 10, size=(2, 2))  # 2x2数组\n",
    "arr1.reshape(1, 4)  # reshape函数将向量维度更改为1行4列，但是arr1仍然是2x2大小。\n",
    "\n",
    "# resize更改维度，且修改向量本身。\n",
    "arr2 = np.random.randint(0, 10, size=(1, 2))\n",
    "\n",
    "# resize函数将维度改为2行1列，且重新赋值给arr2，相当于arr2=arr2.resize()。\n",
    "arr2.resize(2, 1)\n",
    "arr3 = (np.array([[1, 2, 3]])).T  # 转置\n",
    "\n",
    "# 展平操作，包括ravel和flatten，ravel不会产生原数组的副本，flatten返回原数组的副本。\n",
    "re = np.array([[1, 2], [3, 4]])\n",
    "reval = re.ravel()  # 值为[1,2,3,4]\n",
    "flat = np.array([[3, 2], [2, 4]])\n",
    "flatten = flat.flatten()  # 值为[3,2,2,4]\n",
    "\n",
    "# squeeze把矩阵中大小为1的维度去掉，unsqueeze则是在指定位置增加大小为1的维度。\n",
    "sq = np.ones((3, 2, 1))\n",
    "# print(sq.squeeze()) #去掉大小为1的维度\n",
    "# print(sq.squeeze().shape) #结果为（3,2）\n",
    "\n",
    "# transpose，对高维矩阵进行轴对换，比如把图片中表示颜色顺序的RGB改为GBR。\n",
    "trans = np.arange(24).reshape(2, 3, 4)\n",
    "# print(trans.shape)  # (2, 3, 4)\n",
    "# print(trans.transpose(1, 2, 0).shape)  # 调换0，1,2通道的顺序，结果是(3, 4, 2)\n",
    "\n",
    "# 合并数组。包括append、concatenate、stack、hstack、vstack、dstack、vsplit等。\n",
    "app1 = np.arange(4).reshape(2, 2)\n",
    "app2 = np.arange(4).reshape(2, 2)\n",
    "lian_jie1 = np.append(app1, app2, axis=0)  # 按行合并，大小是4x2。\n",
    "lian_jie2 = np.append(app1, app2, axis=1)  # 按列合并，大小是2x4。\n",
    "\n",
    "app11 = np.array([[1, 2], [3, 4]])\n",
    "app12 = np.array([[2, 3]])\n",
    "\n",
    "# 对哪个维度使用concatenate，需要确保另一个维度的大小相等才能成功。\n",
    "concatenate1 = np.concatenate((app11, app12), axis=0)  # 按行连接，大小是3x2。\n",
    "\n",
    "# 按列连接，结果是[[1,2,2],[3,4,3]]\n",
    "concatenate2 = np.concatenate((app11, app12.T), axis=1)\n",
    "# stack是沿指定轴堆叠数组或矩阵。注意只是堆叠效果，并没有合并。\n",
    "sta1 = np.array([[2, 3], [5, 4]])\n",
    "sta2 = np.array([[7, 6], [9, 1]])\n",
    "stack = np.stack((sta1, sta2), axis=0)"
   ]
  },
  {
   "cell_type": "markdown",
   "metadata": {},
   "source": [
    "### （2）pytorch"
   ]
  },
  {
   "cell_type": "code",
   "execution_count": null,
   "metadata": {},
   "outputs": [],
   "source": [
    "import torch\n",
    "\n",
    "# torch.tensor和torch.Tensor区别：\n",
    "# 1）torch.Tensor是torch.empty和torch.tensor之间的一种混合，\n",
    "# 但是，当传入数据时，torch.Tensor使用全局默认dtype（FloatTensor），\n",
    "# 而torch.tensor是从数据中推断数据类型。\n",
    "\n",
    "# 2）torch.tensor(1)返回一个固定值1，\n",
    "# 而torch.Tensor(1)返回一个大小为1的张量，它是随机初始化的值。\n",
    "\n",
    "# 常用张量创建方法\n",
    "t1 = torch.tensor(1)  # 结果是固定值1，t1类型是torch.LongTensor\n",
    "t2 = torch.Tensor(1)  # 结果是大小为1的张量，t2类型是torch.FloatTensor\n",
    "torch_eye = torch.eye(2, 2)  # 单位矩阵\n",
    "torch_zero = torch.zeros(2, 3)  # 0矩阵\n",
    "torch_one = torch.ones(3, 2)  # 1矩阵\n",
    "linspace = torch.linspace(0, 10, 3)  # 0~10分三份，结果是0、5、10。\n",
    "rand = torch.rand(2, 3)  # 均匀分布随机数\n",
    "randn = torch.randn(3, 2)  # 标准分布随机数\n",
    "\n",
    "# 修改张量形状\n",
    "torch_size = torch.tensor([[1, 2], [3, 4]])\n",
    "# print(torch_size.size())  # size和shape等价，返回结果都是torch.Size([2, 2])\n",
    "# print(torch_size.shape)\n",
    "# print(torch_size.view(4, 1))  # torch.view将其变为1x4矩阵。\n",
    "# print(torch_size.view(-1))  # 参数为-1时表示展平数组。\n",
    "# print(torch_size.unsqueeze(0))  # 增加一个维度\n",
    "# print(torch_size.numel())  # 返回矩阵的元素数量。\n",
    "\n",
    "# torch.view和torch.reshape()的区别：\n",
    "# 1）reshape()可以由torch.reshape()，也可由torch.Tensor.reshape()调用。但view()只可由torch.Tensor.view()来调用。\n",
    "# 2）对于一个将要被view的Tensor，新的size必须与原来的size与stride兼容。否则，在view之前必须调用contiguous()方法。\n",
    "# 3）同样也是返回与input数据量相同，但形状不同的Tensor。若满足view的条件，则不会copy，若不满足，则会copy。\n",
    "# 4）如果只想重塑张量，请使用torch.reshape。如果还关注内存使用情况并希望确保两个张量共享相同的数据，使用torch.view。"
   ]
  }
 ],
 "metadata": {
  "kernelspec": {
   "display_name": "Python 3",
   "language": "python",
   "name": "python3"
  },
  "language_info": {
   "codemirror_mode": {
    "name": "ipython",
    "version": 3
   },
   "file_extension": ".py",
   "mimetype": "text/x-python",
   "name": "python",
   "nbconvert_exporter": "python",
   "pygments_lexer": "ipython3",
   "version": "3.11.9"
  }
 },
 "nbformat": 4,
 "nbformat_minor": 2
}
